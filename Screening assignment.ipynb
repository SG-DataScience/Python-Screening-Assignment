{
 "cells": [
  {
   "cell_type": "markdown",
   "metadata": {},
   "source": [
    "# Python Screening Assignment"
   ]
  },
  {
   "cell_type": "markdown",
   "metadata": {},
   "source": [
    "1. Create a function in python to read the text file and replace specific content of the file.\n",
    "\n",
    "File name:   example.txt\n",
    "Origin file content:   This is a placement assignment\n",
    "Replace string:   Placement should be replaced by screening.\n",
    "Replaced file content:  This is a screening assignment"
   ]
  },
  {
   "cell_type": "code",
   "execution_count": 1,
   "metadata": {},
   "outputs": [],
   "source": [
    "with open(\"example.txt\", \"w\") as f:\n",
    "    f.write(\"This is a placement assignment\")"
   ]
  },
  {
   "cell_type": "code",
   "execution_count": 2,
   "metadata": {},
   "outputs": [
    {
     "name": "stdout",
     "output_type": "stream",
     "text": [
      "This is a placement assignment\n"
     ]
    }
   ],
   "source": [
    "with open(\"example.txt\", \"r\") as f:\n",
    "        print(f.read())"
   ]
  },
  {
   "cell_type": "code",
   "execution_count": 3,
   "metadata": {},
   "outputs": [],
   "source": [
    "def text_replacement(filename):\n",
    "    with open(filename, \"r+\") as f1:\n",
    "        content=f1.read()\n",
    "        x = content.replace('placement','screening')\n",
    "        f1.seek(0)\n",
    "        f1.write(x)\n",
    "    with open(filename, \"r\") as f2:\n",
    "        print(f2.read())"
   ]
  },
  {
   "cell_type": "code",
   "execution_count": 4,
   "metadata": {},
   "outputs": [
    {
     "name": "stdout",
     "output_type": "stream",
     "text": [
      "This is a screening assignment\n"
     ]
    }
   ],
   "source": [
    "\n",
    "text_replacement(\"example.txt\")"
   ]
  },
  {
   "cell_type": "raw",
   "metadata": {},
   "source": []
  },
  {
   "cell_type": "markdown",
   "metadata": {},
   "source": [
    "2. Demonstrate use of abstract class, multiple inheritance and decorator in\n",
    "python using examples."
   ]
  },
  {
   "cell_type": "raw",
   "metadata": {},
   "source": [
    "Abstract class:\n",
    "\n",
    "In python there is a module called \"abc\" module , in which there is ABC class. Now a class which is derived from the ABC class is called abstract class. Abstract class can have abstract method(method without body) and concrete method(method with body) inside it and all the abstract methods should be defined and implemented in the child classes(which inherits the abstract class). We can not create an object of an abstract class directly, the abstract class acts as a base class for the other child classes.\n",
    "\n",
    "Now why to use Abstract class?\n",
    "\n",
    "When we need to share some common feature in all the classes , we use a abstract class. In simple words, the abstract class will impose a certain rule that, we can not define the other child classes(inherited from the abstract class) with out difining the abstract method which is defined in the parent abstract class.Other wise it will throw error.\n",
    "\n",
    "The total concept can be explained through the following example:"
   ]
  },
  {
   "cell_type": "code",
   "execution_count": 5,
   "metadata": {},
   "outputs": [],
   "source": [
    "## abstract class example:\n",
    "\n",
    "from abc import ABC, abstractmethod\n",
    "\n",
    "class product_list(ABC):  # this is the abstract class\n",
    "    @abstractmethod #It is a decorator          \n",
    "    def price(self):    #\"price\" is abstract method\n",
    "        pass\n",
    "    \n",
    "    def name(self):     #\"name\" is concrete method\n",
    "        print(\"The shop name is SG Mart\")\n",
    "        \n",
    "class vegetable(product_list):\n",
    "    def price(self):\n",
    "        print(\"The price of vegetables ranges from Rs.25 to Rs.200 per kg\")\n",
    "        \n",
    "class pulses(product_list):\n",
    "    def price(self):\n",
    "        print(\"The price of pulses ranges from Rs.100 to Rs.300 per kg\")\n",
    "        "
   ]
  },
  {
   "cell_type": "code",
   "execution_count": 6,
   "metadata": {},
   "outputs": [
    {
     "name": "stdout",
     "output_type": "stream",
     "text": [
      "The shop name is SG Mart\n",
      "The price of vegetables ranges from Rs.25 to Rs.200 per kg\n",
      "The shop name is SG Mart\n",
      "The price of pulses ranges from Rs.100 to Rs.300 per kg\n"
     ]
    }
   ],
   "source": [
    "v = vegetable()\n",
    "v.name()\n",
    "v.price()\n",
    "\n",
    "p = pulses()\n",
    "p.name()\n",
    "p.price()\n"
   ]
  },
  {
   "cell_type": "code",
   "execution_count": 7,
   "metadata": {},
   "outputs": [
    {
     "ename": "TypeError",
     "evalue": "Can't instantiate abstract class product_list with abstract methods price",
     "output_type": "error",
     "traceback": [
      "\u001b[1;31m---------------------------------------------------------------------------\u001b[0m",
      "\u001b[1;31mTypeError\u001b[0m                                 Traceback (most recent call last)",
      "\u001b[1;32m<ipython-input-7-b6017096e480>\u001b[0m in \u001b[0;36m<module>\u001b[1;34m\u001b[0m\n\u001b[1;32m----> 1\u001b[1;33m \u001b[0mA_c\u001b[0m \u001b[1;33m=\u001b[0m \u001b[0mproduct_list\u001b[0m\u001b[1;33m(\u001b[0m\u001b[1;33m)\u001b[0m   \u001b[1;31m#object of the abstract class can not be created,thus it throws error.\u001b[0m\u001b[1;33m\u001b[0m\u001b[1;33m\u001b[0m\u001b[0m\n\u001b[0m\u001b[0;32m      2\u001b[0m \u001b[0mA_c\u001b[0m\u001b[1;33m.\u001b[0m\u001b[0mprice\u001b[0m\u001b[1;33m(\u001b[0m\u001b[1;33m)\u001b[0m\u001b[1;33m\u001b[0m\u001b[1;33m\u001b[0m\u001b[0m\n",
      "\u001b[1;31mTypeError\u001b[0m: Can't instantiate abstract class product_list with abstract methods price"
     ]
    }
   ],
   "source": [
    "A_c = product_list()   #object of the abstract class can not be created,thus it throws error.\n",
    "A_c.price()"
   ]
  },
  {
   "cell_type": "code",
   "execution_count": 8,
   "metadata": {},
   "outputs": [
    {
     "ename": "TypeError",
     "evalue": "Can't instantiate abstract class pulses with abstract methods price",
     "output_type": "error",
     "traceback": [
      "\u001b[1;31m---------------------------------------------------------------------------\u001b[0m",
      "\u001b[1;31mTypeError\u001b[0m                                 Traceback (most recent call last)",
      "\u001b[1;32m<ipython-input-8-f681bd4ef60a>\u001b[0m in \u001b[0;36m<module>\u001b[1;34m\u001b[0m\n\u001b[0;32m     16\u001b[0m \u001b[1;33m\u001b[0m\u001b[0m\n\u001b[0;32m     17\u001b[0m \u001b[1;33m\u001b[0m\u001b[0m\n\u001b[1;32m---> 18\u001b[1;33m \u001b[0mp\u001b[0m \u001b[1;33m=\u001b[0m \u001b[0mpulses\u001b[0m\u001b[1;33m(\u001b[0m\u001b[1;33m)\u001b[0m\u001b[1;33m\u001b[0m\u001b[1;33m\u001b[0m\u001b[0m\n\u001b[0m\u001b[0;32m     19\u001b[0m \u001b[0mp\u001b[0m\u001b[1;33m.\u001b[0m\u001b[0mname\u001b[0m\u001b[1;33m(\u001b[0m\u001b[1;33m)\u001b[0m\u001b[1;33m\u001b[0m\u001b[1;33m\u001b[0m\u001b[0m\n",
      "\u001b[1;31mTypeError\u001b[0m: Can't instantiate abstract class pulses with abstract methods price"
     ]
    }
   ],
   "source": [
    "class product_list(ABC):  #abstract class\n",
    "    @abstractmethod #It is a decorator          \n",
    "    def price(self):    #abstract method\n",
    "        pass\n",
    "    \n",
    "    def name(self):     #concrete method\n",
    "        print(\"The shop name is SG Mart\")\n",
    "        \n",
    "class vegetable(product_list):\n",
    "    def price(self):\n",
    "        print(\"The price of vegetables ranges from Rs.25 to Rs.200 per kg\")\n",
    "        \n",
    "class pulses(product_list):\n",
    "    pass            #It will throw error as it is mandatory to define the abstract method \"price\" in this child class.\n",
    "\n",
    "\n",
    "\n",
    "p = pulses()\n",
    "p.name()\n"
   ]
  },
  {
   "cell_type": "raw",
   "metadata": {},
   "source": [
    "multiple inheritance:\n",
    "\n",
    "When a class is created which inherit feature from more than one base classes , it is known as multiple inheritance , i.e., it is derived from more than one base class.\n",
    "\n",
    "use:\n",
    "When a subclass needs to combine and inherit some or all of the methods or characteristics from different base classes, multiple inheritance is useful in this type of situation.\n",
    "\n",
    "Example:"
   ]
  },
  {
   "cell_type": "code",
   "execution_count": 9,
   "metadata": {},
   "outputs": [
    {
     "name": "stdout",
     "output_type": "stream",
     "text": [
      "There are other brands with different price\n",
      "samsung\n",
      "Galaxy S22\n",
      "82863\n",
      "4\n"
     ]
    }
   ],
   "source": [
    "##Example of multiple inheritance:\n",
    "\n",
    "#Ist parent class\n",
    "class brand:  \n",
    "    # defining constructor  \n",
    "    def __init__(self, brandName, ModelNo):  \n",
    "        self.name = brandName  \n",
    "        self.model = ModelNo\n",
    "  \n",
    "    # defining class methods--  \n",
    "    def brand_Name(self):  \n",
    "        print(self.name)  \n",
    "  \n",
    "    def Model_no(self):  \n",
    "        print(self.model)  \n",
    " \n",
    "  \n",
    "# 2nd parent class  \n",
    "class MRP: \n",
    "    def __init__(self, Mrp):  \n",
    "        self.Mrp = Mrp  \n",
    "  \n",
    "    def price(self):  \n",
    "        return self.Mrp  \n",
    "\n",
    "# 3rd parent class\n",
    "class pdt_Rating:\n",
    "    def __init__(self,rating):\n",
    "        self.rating = rating\n",
    "        \n",
    "    def pdt_rating(self):\n",
    "        print(self.rating)\n",
    "  \n",
    "class mobile_phone(brand, MRP, pdt_Rating): # inherits from all 3 parent classes  \n",
    "    def __init__(self, brandname, ModelNo, Mrp, rating):  \n",
    "        brand.__init__(self, brandname, ModelNo)\n",
    "        \n",
    "        MRP.__init__(self, Mrp) \n",
    "        \n",
    "        pdt_Rating.__init__(self, rating)\n",
    "    print(\"There are other brands with different price\")\n",
    "  \n",
    "  \n",
    "# Create an object of the subclass  \n",
    "m_p = mobile_phone(\"samsung\",\"Galaxy S22\",82863,4)  \n",
    "m_p.brand_Name()\n",
    "m_p.Model_no()\n",
    "print(m_p.price())\n",
    "m_p.pdt_rating()\n"
   ]
  },
  {
   "cell_type": "raw",
   "metadata": {},
   "source": [
    "Decorator:\n",
    "\n",
    "Decorator in python is a tool, which allows to take a function as an argument to another function, i.e it wraps a function inside another function.\n",
    "\n",
    "why to use decorator:\n",
    "when we need to do a same task with other 10 functions, we create a decorator of it and use it in all other functions to make our task easy and time saving.\n",
    "\n",
    "This can be understood with an example:"
   ]
  },
  {
   "cell_type": "code",
   "execution_count": 10,
   "metadata": {},
   "outputs": [],
   "source": [
    "##Decorator example:\n",
    "\n",
    "def shop(xyz):\n",
    "    def shop_details():\n",
    "        print(\"Name of the shop is SG Book Store\")\n",
    "        xyz()\n",
    "        print('Store Location: kolkata')\n",
    "    return shop_details\n",
    "\n",
    "def book_name():\n",
    "    print(\"Name of the book: The White Tiger by Aravind Adiga \")"
   ]
  },
  {
   "cell_type": "code",
   "execution_count": 11,
   "metadata": {},
   "outputs": [
    {
     "name": "stdout",
     "output_type": "stream",
     "text": [
      "Name of the book: The White Tiger by Aravind Adiga \n"
     ]
    }
   ],
   "source": [
    "book_name()"
   ]
  },
  {
   "cell_type": "code",
   "execution_count": 12,
   "metadata": {},
   "outputs": [],
   "source": [
    "@shop     ## here by using '@shop' ,we are decorating the book_name function with the shop function\n",
    "def book_name1():\n",
    "    print(\"Name of the book: The White Tiger by Aravind Adiga \")\n",
    "    \n",
    "@shop\n",
    "def book_name2():\n",
    "    print(\"name of the book: ‘Witness the Night’ by Kishwar Desai\")\n",
    "    "
   ]
  },
  {
   "cell_type": "code",
   "execution_count": 13,
   "metadata": {},
   "outputs": [
    {
     "name": "stdout",
     "output_type": "stream",
     "text": [
      "Name of the shop is SG Book Store\n",
      "Name of the book: The White Tiger by Aravind Adiga \n",
      "Store Location: kolkata\n"
     ]
    }
   ],
   "source": [
    "book_name1()"
   ]
  },
  {
   "cell_type": "code",
   "execution_count": 14,
   "metadata": {},
   "outputs": [
    {
     "name": "stdout",
     "output_type": "stream",
     "text": [
      "Name of the shop is SG Book Store\n",
      "name of the book: ‘Witness the Night’ by Kishwar Desai\n",
      "Store Location: kolkata\n"
     ]
    }
   ],
   "source": [
    "book_name2()"
   ]
  },
  {
   "cell_type": "code",
   "execution_count": null,
   "metadata": {},
   "outputs": [],
   "source": []
  }
 ],
 "metadata": {
  "kernelspec": {
   "display_name": "Python 3",
   "language": "python",
   "name": "python3"
  },
  "language_info": {
   "codemirror_mode": {
    "name": "ipython",
    "version": 3
   },
   "file_extension": ".py",
   "mimetype": "text/x-python",
   "name": "python",
   "nbconvert_exporter": "python",
   "pygments_lexer": "ipython3",
   "version": "3.8.3"
  }
 },
 "nbformat": 4,
 "nbformat_minor": 4
}
